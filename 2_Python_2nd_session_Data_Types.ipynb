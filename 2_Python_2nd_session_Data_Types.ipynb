{
  "nbformat": 4,
  "nbformat_minor": 0,
  "metadata": {
    "colab": {
      "provenance": [],
      "toc_visible": true,
      "include_colab_link": true
    },
    "kernelspec": {
      "name": "python3",
      "display_name": "Python 3"
    },
    "language_info": {
      "name": "python"
    }
  },
  "cells": [
    {
      "cell_type": "markdown",
      "metadata": {
        "id": "view-in-github",
        "colab_type": "text"
      },
      "source": [
        "<a href=\"https://colab.research.google.com/github/Habbeyjojo/Habbeyjojo/blob/main/2_Python_2nd_session_Data_Types.ipynb\" target=\"_parent\"><img src=\"https://colab.research.google.com/assets/colab-badge.svg\" alt=\"Open In Colab\"/></a>"
      ]
    },
    {
      "cell_type": "markdown",
      "source": [
        "# Data\n",
        "Collection of information(number,text,boolean)"
      ],
      "metadata": {
        "id": "gGKhR_q9zvsb"
      }
    },
    {
      "cell_type": "markdown",
      "source": [],
      "metadata": {
        "id": "wpUC1IYs3LlZ"
      }
    },
    {
      "cell_type": "markdown",
      "source": [
        "**Basic Types of data**\n",
        "* Numeric data\n",
        "* Boolean data\n",
        "* Strings"
      ],
      "metadata": {
        "id": "K66DMyv10KFv"
      }
    },
    {
      "cell_type": "code",
      "source": [
        "x = \"Abhishek\"\n",
        "y = 123\n",
        "q = 34.678\n",
        "z = True\n",
        "a = False\n",
        "\n",
        "# age1 = 3\n",
        "\n",
        "# print(name)\n",
        "print(type(x))\n",
        "print(type(y))\n",
        "print(type(q))\n",
        "print(type(z))"
      ],
      "metadata": {
        "id": "VLBrhbhLvlmP",
        "colab": {
          "base_uri": "https://localhost:8080/"
        },
        "outputId": "f66ae5dc-cf9b-461a-e5bd-17743cbbc88b"
      },
      "execution_count": null,
      "outputs": [
        {
          "output_type": "stream",
          "name": "stdout",
          "text": [
            "<class 'str'>\n",
            "<class 'int'>\n",
            "<class 'float'>\n",
            "<class 'bool'>\n"
          ]
        }
      ]
    },
    {
      "cell_type": "markdown",
      "source": [
        "# Numeric data\n",
        "Numeric data is represented in the form numbers.\n",
        "* Integers\n",
        "* float\n"
      ],
      "metadata": {
        "id": "xYRYsLe10dzx"
      }
    },
    {
      "cell_type": "code",
      "source": [
        "x = \"Hello World\"\n",
        "print(x)\n",
        "print(type(x))"
      ],
      "metadata": {
        "colab": {
          "base_uri": "https://localhost:8080/"
        },
        "id": "Iy5vKPVjwvM2",
        "outputId": "66857b46-122b-4d4d-db0e-748736a8c67d"
      },
      "execution_count": null,
      "outputs": [
        {
          "output_type": "stream",
          "name": "stdout",
          "text": [
            "Hello World\n",
            "<class 'str'>\n"
          ]
        }
      ]
    },
    {
      "cell_type": "markdown",
      "source": [
        "# Integers\n",
        "Integers are whole numbers without decimal.\n",
        "There can be positive integers,negative integers including.\n",
        "\n",
        "Eg: 2,3,4,-10,-13,-19,0"
      ],
      "metadata": {
        "id": "2Hqltw8n0u1K"
      }
    },
    {
      "cell_type": "code",
      "source": [
        "# define integer 10 and check its data type\n",
        "# variable_name = value\n",
        "\n",
        "number = 10\n",
        "print(number)\n",
        "print(type(number))\n",
        "\n",
        "# type : is a function used to find data type of any variable\n",
        "# print is a function used to display value of variable\n",
        "# variable is number\n",
        "# 10 is a value"
      ],
      "metadata": {
        "colab": {
          "base_uri": "https://localhost:8080/"
        },
        "id": "6ViKNuK21Ehn",
        "outputId": "fa672fe5-5de6-4708-b127-de8577f6e9fb",
        "collapsed": true
      },
      "execution_count": null,
      "outputs": [
        {
          "output_type": "stream",
          "name": "stdout",
          "text": [
            "10.0\n",
            "<class 'float'>\n"
          ]
        }
      ]
    },
    {
      "cell_type": "code",
      "source": [
        "# define integer -20 and check its data type\n",
        "a = -20\n",
        "print(a)\n",
        "print(type(a)) #int stands for integer"
      ],
      "metadata": {
        "colab": {
          "base_uri": "https://localhost:8080/"
        },
        "id": "Oced7RTY15UA",
        "outputId": "a05375b3-2b94-434d-ad02-3cc80cb80c43",
        "collapsed": true
      },
      "execution_count": null,
      "outputs": [
        {
          "output_type": "stream",
          "name": "stdout",
          "text": [
            "-20\n",
            "<class 'int'>\n"
          ]
        }
      ]
    },
    {
      "cell_type": "markdown",
      "source": [
        "# Float\n",
        "Numbers which are represented in the form of decimals.\n",
        "\n",
        "Eg: 2.3 ,3.4,-4.5,-6.7 ,0.0\n"
      ],
      "metadata": {
        "id": "1qSgHiu73l0j"
      }
    },
    {
      "cell_type": "code",
      "source": [
        "# define float 3.4 and check its data type\n",
        "x = 3.9\n",
        "print(x)\n",
        "print(type(x))"
      ],
      "metadata": {
        "colab": {
          "base_uri": "https://localhost:8080/"
        },
        "id": "_-f8cT863amJ",
        "outputId": "ee6596d4-f219-499b-f67c-4c5ace897a2a",
        "collapsed": true
      },
      "execution_count": null,
      "outputs": [
        {
          "output_type": "stream",
          "name": "stdout",
          "text": [
            "3.9\n",
            "<class 'float'>\n"
          ]
        }
      ]
    },
    {
      "cell_type": "code",
      "source": [
        "y = 0\n",
        "z = 0.0\n",
        "print(type(y))\n",
        "print(type(z))"
      ],
      "metadata": {
        "colab": {
          "base_uri": "https://localhost:8080/"
        },
        "id": "2d6AtTWY5I0P",
        "outputId": "35f03877-d104-4ef1-f3af-7f7da469bf5a",
        "collapsed": true
      },
      "execution_count": null,
      "outputs": [
        {
          "output_type": "stream",
          "name": "stdout",
          "text": [
            "<class 'int'>\n",
            "<class 'float'>\n"
          ]
        }
      ]
    },
    {
      "cell_type": "code",
      "source": [
        "x = 5\n",
        "y = 2\n",
        "print(type(x))\n",
        "print(type(y))\n",
        "print(x+y)\n",
        "print(x-y)\n",
        "print(x*y)\n",
        "print(x/y)\n",
        "print(type(x+y))\n",
        "print(type(x-y))\n",
        "print(type(x*y))\n",
        "print(type(x/y))"
      ],
      "metadata": {
        "colab": {
          "base_uri": "https://localhost:8080/"
        },
        "collapsed": true,
        "id": "Mb7cYFgq4C7E",
        "outputId": "2767abbc-27d7-40e7-991d-9f6d1da1380d"
      },
      "execution_count": null,
      "outputs": [
        {
          "output_type": "stream",
          "name": "stdout",
          "text": [
            "<class 'int'>\n",
            "<class 'int'>\n",
            "7\n",
            "3\n",
            "10\n",
            "2.5\n",
            "<class 'int'>\n",
            "<class 'int'>\n",
            "<class 'int'>\n",
            "<class 'float'>\n"
          ]
        }
      ]
    },
    {
      "cell_type": "code",
      "source": [
        "10+23+5.0"
      ],
      "metadata": {
        "colab": {
          "base_uri": "https://localhost:8080/"
        },
        "id": "I72QQGYV5fwg",
        "outputId": "e890455c-bbcd-4814-eca2-3b1e863449b2"
      },
      "execution_count": null,
      "outputs": [
        {
          "output_type": "execute_result",
          "data": {
            "text/plain": [
              "38.0"
            ]
          },
          "metadata": {},
          "execution_count": 11
        }
      ]
    },
    {
      "cell_type": "code",
      "source": [
        "20*20*2.1"
      ],
      "metadata": {
        "colab": {
          "base_uri": "https://localhost:8080/"
        },
        "id": "Ftg3DqWM0hFg",
        "outputId": "54a78182-673d-47ac-e0a1-0d2cc71700b9"
      },
      "execution_count": null,
      "outputs": [
        {
          "output_type": "execute_result",
          "data": {
            "text/plain": [
              "840.0"
            ]
          },
          "metadata": {},
          "execution_count": 9
        }
      ]
    },
    {
      "cell_type": "code",
      "source": [
        "10/3"
      ],
      "metadata": {
        "colab": {
          "base_uri": "https://localhost:8080/"
        },
        "id": "JdFD9CITzqXH",
        "outputId": "5a3ecb4c-0019-4734-8d0e-16a43006231b"
      },
      "execution_count": null,
      "outputs": [
        {
          "output_type": "execute_result",
          "data": {
            "text/plain": [
              "3.3333333333333335"
            ]
          },
          "metadata": {},
          "execution_count": 10
        }
      ]
    },
    {
      "cell_type": "code",
      "source": [
        "5/2"
      ],
      "metadata": {
        "colab": {
          "base_uri": "https://localhost:8080/"
        },
        "id": "R8VTUN-x6BRa",
        "outputId": "26253b97-03cd-46fd-aa78-eb55d9bb219f"
      },
      "execution_count": null,
      "outputs": [
        {
          "output_type": "execute_result",
          "data": {
            "text/plain": [
              "2.5"
            ]
          },
          "metadata": {},
          "execution_count": 37
        }
      ]
    },
    {
      "cell_type": "code",
      "source": [
        "# define -5.6 and find its data type\n",
        "\n",
        "p = -5.6\n",
        "print(p)\n",
        "print(type(p))"
      ],
      "metadata": {
        "colab": {
          "base_uri": "https://localhost:8080/"
        },
        "id": "FzGfKd3m6Gtx",
        "outputId": "7664474b-4c04-41d7-8632-ef9d291c8ed7"
      },
      "execution_count": null,
      "outputs": [
        {
          "output_type": "stream",
          "name": "stdout",
          "text": [
            "-5.6\n",
            "<class 'float'>\n"
          ]
        }
      ]
    },
    {
      "cell_type": "markdown",
      "source": [
        "# Boolean\n",
        "Boolean data is represented in the form of True or False.\n",
        "\n",
        "* Integer value of True is 1\n",
        "* Integer value of False is 0"
      ],
      "metadata": {
        "id": "FskvQewm_ut4"
      }
    },
    {
      "cell_type": "code",
      "source": [
        "# define boolean value True and find its data type\n",
        "m = True\n",
        "print(m)\n",
        "print(type(m))\n"
      ],
      "metadata": {
        "colab": {
          "base_uri": "https://localhost:8080/"
        },
        "id": "g0Tit4Zr_DBt",
        "outputId": "1d80f983-a97c-4120-e7c8-3fc483a2370c"
      },
      "execution_count": null,
      "outputs": [
        {
          "output_type": "stream",
          "name": "stdout",
          "text": [
            "True\n",
            "<class 'bool'>\n"
          ]
        }
      ]
    },
    {
      "cell_type": "code",
      "source": [
        "# define boolean value False and find its data type\n",
        "n = False\n",
        "print(n)\n",
        "print(type(n))"
      ],
      "metadata": {
        "colab": {
          "base_uri": "https://localhost:8080/"
        },
        "id": "MKYBNpzIADD3",
        "outputId": "32e03863-e0d6-4c07-9a17-fc585244446d"
      },
      "execution_count": null,
      "outputs": [
        {
          "output_type": "stream",
          "name": "stdout",
          "text": [
            "False\n",
            "<class 'bool'>\n"
          ]
        }
      ]
    },
    {
      "cell_type": "code",
      "source": [
        "x = 5.6, 5, 6, 7\n",
        "print(type(x))\n",
        "print(type(int(x)))"
      ],
      "metadata": {
        "colab": {
          "base_uri": "https://localhost:8080/"
        },
        "id": "TpOqVYl82KIl",
        "outputId": "7b1a64f3-ea5e-4262-db71-f59a4f904f9a"
      },
      "execution_count": null,
      "outputs": [
        {
          "output_type": "stream",
          "name": "stdout",
          "text": [
            "<class 'float'>\n",
            "<class 'int'>\n"
          ]
        }
      ]
    },
    {
      "cell_type": "code",
      "source": [
        "float(True) # integer value of True"
      ],
      "metadata": {
        "colab": {
          "base_uri": "https://localhost:8080/"
        },
        "id": "MDDV2-SIAiO4",
        "outputId": "592fda0a-07ec-4419-bf10-cd98926c72b4"
      },
      "execution_count": null,
      "outputs": [
        {
          "output_type": "execute_result",
          "data": {
            "text/plain": [
              "1.0"
            ]
          },
          "metadata": {},
          "execution_count": 41
        }
      ]
    },
    {
      "cell_type": "code",
      "source": [
        "# iinteger value of False\n",
        "int(False)"
      ],
      "metadata": {
        "colab": {
          "base_uri": "https://localhost:8080/"
        },
        "id": "8TNhunIDApvc",
        "outputId": "e7f3b564-4ed9-443a-f47e-554490b80f18"
      },
      "execution_count": null,
      "outputs": [
        {
          "output_type": "execute_result",
          "data": {
            "text/plain": [
              "0"
            ]
          },
          "metadata": {},
          "execution_count": 40
        }
      ]
    },
    {
      "cell_type": "markdown",
      "source": [
        "# Strings\n",
        "String are text kind of data made up of sequence of characters(alphabets-numbers-specialchars) which is enclosed within quotes('' ,\"\" , ''' ''' , \"\"\" \"\"\")\n"
      ],
      "metadata": {
        "id": "Xdtrl7jAA776"
      }
    },
    {
      "cell_type": "markdown",
      "source": [
        "# single line strings\n",
        "Single strings are sequence of characters that are defined within single quotes (' ') or double quotes(\" \") in a single line."
      ],
      "metadata": {
        "id": "XGdmutKeBm0_"
      }
    },
    {
      "cell_type": "code",
      "source": [
        "# define your name and check its type\n",
        "First_name = 'Abhishek'\n",
        "first_name = \"abhishek\"\n",
        "imdb_score = [7.5,5,8.9,6.8]\n",
        "imdb_score_str = ['7.5', '5', '8.9']\n",
        "Last_name = 'Parihar'\n",
        "x = \"True\"\n",
        "z = True\n",
        "y = 123,12,14\n",
        "Full_name = First_name + ' ' + Last_name +1\n",
        "Full_name\n",
        "print(Full_name)\n",
        "print(type(x))\n",
        "# print(name)\n",
        "# print(type(name))\n",
        "# print()\n",
        "print(x+12)\n",
        "print(First_name)"
      ],
      "metadata": {
        "colab": {
          "base_uri": "https://localhost:8080/",
          "height": 211
        },
        "id": "U4iHEpOSAz3I",
        "outputId": "b91c45e2-e4cc-4ccb-9893-a9aca253698b",
        "collapsed": true
      },
      "execution_count": null,
      "outputs": [
        {
          "output_type": "error",
          "ename": "TypeError",
          "evalue": "can only concatenate str (not \"int\") to str",
          "traceback": [
            "\u001b[0;31m---------------------------------------------------------------------------\u001b[0m",
            "\u001b[0;31mTypeError\u001b[0m                                 Traceback (most recent call last)",
            "\u001b[0;32m/tmp/ipython-input-3670619497.py\u001b[0m in \u001b[0;36m<cell line: 0>\u001b[0;34m()\u001b[0m\n\u001b[1;32m      8\u001b[0m \u001b[0mz\u001b[0m \u001b[0;34m=\u001b[0m \u001b[0;32mTrue\u001b[0m\u001b[0;34m\u001b[0m\u001b[0;34m\u001b[0m\u001b[0m\n\u001b[1;32m      9\u001b[0m \u001b[0my\u001b[0m \u001b[0;34m=\u001b[0m \u001b[0;36m123\u001b[0m\u001b[0;34m\u001b[0m\u001b[0;34m\u001b[0m\u001b[0m\n\u001b[0;32m---> 10\u001b[0;31m \u001b[0mFull_name\u001b[0m \u001b[0;34m=\u001b[0m \u001b[0mFirst_name\u001b[0m \u001b[0;34m+\u001b[0m \u001b[0;34m' '\u001b[0m \u001b[0;34m+\u001b[0m \u001b[0mLast_name\u001b[0m \u001b[0;34m+\u001b[0m\u001b[0;36m1\u001b[0m\u001b[0;34m\u001b[0m\u001b[0;34m\u001b[0m\u001b[0m\n\u001b[0m\u001b[1;32m     11\u001b[0m \u001b[0mFull_name\u001b[0m\u001b[0;34m\u001b[0m\u001b[0;34m\u001b[0m\u001b[0m\n\u001b[1;32m     12\u001b[0m \u001b[0mprint\u001b[0m\u001b[0;34m(\u001b[0m\u001b[0mFull_name\u001b[0m\u001b[0;34m)\u001b[0m\u001b[0;34m\u001b[0m\u001b[0;34m\u001b[0m\u001b[0m\n",
            "\u001b[0;31mTypeError\u001b[0m: can only concatenate str (not \"int\") to str"
          ]
        }
      ]
    },
    {
      "cell_type": "code",
      "source": [
        "# define your place and check its type\n",
        "place = \"123\"\n",
        "print(place)\n",
        "print(type(place))\n"
      ],
      "metadata": {
        "colab": {
          "base_uri": "https://localhost:8080/"
        },
        "id": "LsZLhvJACPt5",
        "outputId": "c24f849a-e634-483c-810a-ef215955d422",
        "collapsed": true
      },
      "execution_count": null,
      "outputs": [
        {
          "output_type": "stream",
          "name": "stdout",
          "text": [
            "123\n",
            "<class 'str'>\n"
          ]
        }
      ]
    },
    {
      "cell_type": "code",
      "source": [
        "print('')"
      ],
      "metadata": {
        "id": "ZPebv7GmZ2Su",
        "colab": {
          "base_uri": "https://localhost:8080/"
        },
        "collapsed": true,
        "outputId": "b40e7046-357a-4940-f7ab-a231ff1dc3ff"
      },
      "execution_count": null,
      "outputs": [
        {
          "output_type": "stream",
          "name": "stdout",
          "text": [
            "\n"
          ]
        }
      ]
    },
    {
      "cell_type": "code",
      "source": [
        "print('lets do123$%^&& coding')"
      ],
      "metadata": {
        "colab": {
          "base_uri": "https://localhost:8080/"
        },
        "id": "TXawQr2-ZY0x",
        "outputId": "1e5a8b75-109d-4221-82df-da64847fe639"
      },
      "execution_count": null,
      "outputs": [
        {
          "output_type": "stream",
          "name": "stdout",
          "text": [
            "lets do coding\n"
          ]
        }
      ]
    },
    {
      "cell_type": "code",
      "source": [
        "# define Life's crazy\n",
        "quote = \"Life's crazy\"\n",
        "print(quote)"
      ],
      "metadata": {
        "colab": {
          "base_uri": "https://localhost:8080/"
        },
        "id": "H0e3aoeyCrxo",
        "outputId": "b0d4ddbb-35ab-486d-8ed8-1064b96d12f4",
        "collapsed": true
      },
      "execution_count": null,
      "outputs": [
        {
          "output_type": "stream",
          "name": "stdout",
          "text": [
            "Life's crazy\n"
          ]
        }
      ]
    },
    {
      "cell_type": "code",
      "source": [
        "quote =\"Life's crazy\"\n",
        "print(quote)"
      ],
      "metadata": {
        "colab": {
          "base_uri": "https://localhost:8080/"
        },
        "id": "pI2JDS6XC-PW",
        "outputId": "de4b3d50-10fc-4d85-c54f-93663eda5647"
      },
      "execution_count": null,
      "outputs": [
        {
          "output_type": "stream",
          "name": "stdout",
          "text": [
            "Life's crazy\n"
          ]
        }
      ]
    },
    {
      "cell_type": "code",
      "source": [
        "quote =\"Life's crazy\" # use one backslash before apostrophe\n",
        "print(quote)"
      ],
      "metadata": {
        "colab": {
          "base_uri": "https://localhost:8080/"
        },
        "id": "JbDshhwkDZyu",
        "outputId": "97ae64a1-6112-4cd1-c5d4-a432ecded734",
        "collapsed": true
      },
      "execution_count": null,
      "outputs": [
        {
          "output_type": "stream",
          "name": "stdout",
          "text": [
            "Life's crazy\n"
          ]
        }
      ]
    },
    {
      "cell_type": "code",
      "source": [
        "'hi', \"hi\", '''hi'''"
      ],
      "metadata": {
        "id": "RhYq4CWjabkE",
        "colab": {
          "base_uri": "https://localhost:8080/"
        },
        "outputId": "0613e3b1-dccd-4984-d32f-ac071033674d"
      },
      "execution_count": null,
      "outputs": [
        {
          "output_type": "execute_result",
          "data": {
            "text/plain": [
              "('hi', 'hi', 'hi')"
            ]
          },
          "metadata": {},
          "execution_count": 48
        }
      ]
    },
    {
      "cell_type": "markdown",
      "source": [
        "# Multiline strings\n",
        "Strings defined in multiple lines are enclosed within triple single quote(''' ''') or triple double quotes(\"\"\" \"\"\")"
      ],
      "metadata": {
        "id": "wxvwXY8rECDC"
      }
    },
    {
      "cell_type": "code",
      "source": [
        "text1 = '''python is easy\n",
        "sql is easy\n",
        "Ml is easy'''\n",
        "print(text1)\n",
        "print(type(text1))"
      ],
      "metadata": {
        "colab": {
          "base_uri": "https://localhost:8080/"
        },
        "id": "V3wlzMhnDem6",
        "outputId": "91495235-924c-404f-e35f-a73e1f05714b",
        "collapsed": true
      },
      "execution_count": null,
      "outputs": [
        {
          "output_type": "stream",
          "name": "stdout",
          "text": [
            "python is easy\n",
            "sql is easy\n",
            "Ml is easy\n",
            "<class 'str'>\n"
          ]
        }
      ]
    },
    {
      "cell_type": "code",
      "source": [
        "text = \"\"\"python is easy\n",
        "sql is easy\n",
        "Ml is easy\"\"\"\n",
        "print(text)\n",
        "print(type(text))"
      ],
      "metadata": {
        "colab": {
          "base_uri": "https://localhost:8080/"
        },
        "id": "BwRbr5YgEgUh",
        "outputId": "be574444-87a0-45c9-9663-00f4f3ed25f4",
        "collapsed": true
      },
      "execution_count": null,
      "outputs": [
        {
          "output_type": "stream",
          "name": "stdout",
          "text": [
            "python is easy\n",
            "sql is easy\n",
            "Ml is easy\n",
            "<class 'str'>\n"
          ]
        }
      ]
    },
    {
      "cell_type": "markdown",
      "source": [
        "# Advance data types\n",
        "# Basic datastructures\n",
        "* List\n",
        "* Tuple\n",
        "* set\n",
        "* dict"
      ],
      "metadata": {
        "id": "0iOnNwWBFMSW"
      }
    },
    {
      "cell_type": "markdown",
      "source": [
        "# Datastructures\n",
        "Datastructures are used to store multiple values of any data type in a single variable.\n",
        "\n",
        "# Type of datastructures\n",
        "* List\n",
        "* Tuple\n",
        "* set\n",
        "* dict"
      ],
      "metadata": {
        "id": "E39pPykbI_gs"
      }
    },
    {
      "cell_type": "markdown",
      "source": [
        "# List\n",
        "List is a datastructure used to store multiple values of any data type in a single variable."
      ],
      "metadata": {
        "id": "xVTlVoZwJp1R"
      }
    },
    {
      "cell_type": "markdown",
      "source": [
        "# How to create list??\n",
        "Lists are created using [ ] by seperating values with comma (,)."
      ],
      "metadata": {
        "id": "5SBXSN-eJ3QC"
      }
    },
    {
      "cell_type": "code",
      "source": [
        "lang = [\"python\",\"sql\",'java']"
      ],
      "metadata": {
        "id": "DPSQDTLGwbB3"
      },
      "execution_count": null,
      "outputs": []
    },
    {
      "cell_type": "code",
      "source": [
        "#  create list store values like 100,200,300,400,500\n",
        "numbers = [100, 200 , 300 , 400 , 500]\n",
        "print(numbers)\n",
        "print(type(numbers))"
      ],
      "metadata": {
        "colab": {
          "base_uri": "https://localhost:8080/"
        },
        "id": "mr48OU2yJ2x7",
        "outputId": "4a5e031c-d8a5-41e3-f931-ff75f7a3442a",
        "collapsed": true
      },
      "execution_count": null,
      "outputs": [
        {
          "output_type": "stream",
          "name": "stdout",
          "text": [
            "[100, 200, 300, 400, 500]\n",
            "<class 'list'>\n"
          ]
        }
      ]
    },
    {
      "cell_type": "code",
      "source": [
        "x = 2+3j\n",
        "print(type(x))\n",
        "list = [True, False, True, 2.7, 'Abhi',2+3j ]\n",
        "print(list)\n",
        "print(type(list))"
      ],
      "metadata": {
        "colab": {
          "base_uri": "https://localhost:8080/"
        },
        "id": "H9r648DD8sOa",
        "outputId": "955b4e74-90c8-4a5d-a19d-7ee410931a13"
      },
      "execution_count": null,
      "outputs": [
        {
          "output_type": "stream",
          "name": "stdout",
          "text": [
            "<class 'complex'>\n",
            "[True, False, True, 2.7, 'Abhi', (2+3j)]\n",
            "<class 'list'>\n"
          ]
        }
      ]
    },
    {
      "cell_type": "code",
      "source": [
        "# create list to store values like blue,green,orange,pink\n",
        "colors = [\"blue\" , 'green' ,'orange' , 'pink']\n",
        "print(colors)\n",
        "print(type(colors))"
      ],
      "metadata": {
        "colab": {
          "base_uri": "https://localhost:8080/"
        },
        "id": "Zke37lIDEvO1",
        "outputId": "49ae70fd-1bb0-42d0-b749-d2bef6d8cc36"
      },
      "execution_count": null,
      "outputs": [
        {
          "output_type": "stream",
          "name": "stdout",
          "text": [
            "['blue', 'green', 'orange', 'pink']\n",
            "<class 'list'>\n"
          ]
        }
      ]
    },
    {
      "cell_type": "code",
      "source": [
        "#  create list to store values like 1000 , 3.4 , 5+7j , True , python\n",
        "A = [1000 , 3.4 , 5+4j ,True ,\"python\"]\n",
        "print(A)\n",
        "print(type(A))"
      ],
      "metadata": {
        "colab": {
          "base_uri": "https://localhost:8080/"
        },
        "id": "iGJiiCKtLG5c",
        "outputId": "afccf929-fdff-4771-c91f-c078f71fc0ca",
        "collapsed": true
      },
      "execution_count": null,
      "outputs": [
        {
          "output_type": "stream",
          "name": "stdout",
          "text": [
            "[1000, 3.4, (5+4j), True, 'python']\n",
            "<class 'list'>\n"
          ]
        }
      ]
    },
    {
      "cell_type": "code",
      "source": [
        "a=[1000 , 3.4 , 5+7j , True, 'python']\n",
        "print(a)\n",
        "print(type(a))"
      ],
      "metadata": {
        "colab": {
          "base_uri": "https://localhost:8080/"
        },
        "id": "oe4wKIrHMApu",
        "outputId": "b5af47ad-454f-4ed1-9d55-bef8a77a626e",
        "collapsed": true
      },
      "execution_count": null,
      "outputs": [
        {
          "output_type": "stream",
          "name": "stdout",
          "text": [
            "[1000, 3.4, (5+7j), True, 'python']\n",
            "<class 'list'>\n"
          ]
        }
      ]
    },
    {
      "cell_type": "code",
      "source": [
        "y = 'pythonas'\n",
        "print(y)\n",
        "print(type(y))\n",
        "print(len(y))"
      ],
      "metadata": {
        "colab": {
          "base_uri": "https://localhost:8080/"
        },
        "id": "oOOe3Hq2csoh",
        "outputId": "cb082585-bdee-40e4-98e9-37c5b4ff6f24"
      },
      "execution_count": null,
      "outputs": [
        {
          "output_type": "stream",
          "name": "stdout",
          "text": [
            "pythonas\n",
            "<class 'str'>\n",
            "8\n"
          ]
        }
      ]
    },
    {
      "cell_type": "code",
      "source": [
        "B = ['sql','python','abhishek',9]\n",
        "print(B)\n",
        "print(len(B))"
      ],
      "metadata": {
        "colab": {
          "base_uri": "https://localhost:8080/"
        },
        "id": "WmSelvEyML3C",
        "outputId": "5fdd358c-8555-4047-b585-4e203a23b733",
        "collapsed": true
      },
      "execution_count": null,
      "outputs": [
        {
          "output_type": "stream",
          "name": "stdout",
          "text": [
            "['sql', 'python', 'abhishek', 9]\n",
            "4\n"
          ]
        }
      ]
    },
    {
      "cell_type": "code",
      "source": [
        "C = ['sql','python']\n",
        "print(C)\n",
        "print(len(C))\n",
        "\n",
        "# len is a function used to find number of elements in a list"
      ],
      "metadata": {
        "colab": {
          "base_uri": "https://localhost:8080/"
        },
        "id": "XkkOmjp3MZUI",
        "outputId": "1036ee78-026f-4d08-9ee4-059353de9094",
        "collapsed": true
      },
      "execution_count": null,
      "outputs": [
        {
          "output_type": "stream",
          "name": "stdout",
          "text": [
            "['sql', 'python']\n",
            "2\n"
          ]
        }
      ]
    },
    {
      "cell_type": "code",
      "source": [
        "salary = [10000,20000,30000,40000]\n",
        "# len: number of elements in list\n",
        "print(len(salary))\n",
        "print(sum(salary))\n"
      ],
      "metadata": {
        "colab": {
          "base_uri": "https://localhost:8080/"
        },
        "id": "REG4TEMKN-Np",
        "outputId": "f75026d3-f03f-4110-c07f-a65324820cf8",
        "collapsed": true
      },
      "execution_count": null,
      "outputs": [
        {
          "output_type": "stream",
          "name": "stdout",
          "text": [
            "4\n",
            "100000\n"
          ]
        }
      ]
    },
    {
      "cell_type": "code",
      "source": [
        "#sum: Used to find sum of elements in a list\n",
        "#Total sum of salary\n",
        "print(max(salary))\n"
      ],
      "metadata": {
        "colab": {
          "base_uri": "https://localhost:8080/"
        },
        "id": "yszImvWiOc1t",
        "outputId": "ceae61dc-66c7-4f0d-f795-a8cf9cd85e63",
        "collapsed": true
      },
      "execution_count": null,
      "outputs": [
        {
          "output_type": "stream",
          "name": "stdout",
          "text": [
            "40000\n"
          ]
        }
      ]
    },
    {
      "cell_type": "code",
      "source": [
        "# max: used to find maximum element\n",
        "# min : used to find minimum element\n",
        "print(max(salary))\n",
        "print(min(salary))"
      ],
      "metadata": {
        "colab": {
          "base_uri": "https://localhost:8080/"
        },
        "id": "do2jb1rIOsTH",
        "outputId": "77116026-bfa8-468e-cc38-281dec170c3f",
        "collapsed": true
      },
      "execution_count": null,
      "outputs": [
        {
          "output_type": "stream",
          "name": "stdout",
          "text": [
            "40000\n",
            "10000\n"
          ]
        }
      ]
    },
    {
      "cell_type": "code",
      "source": [
        "# average= sum of elements / total number of elements\n",
        "# average salary = sum of salary/len of salary\n",
        "avg_sa = sum(salary)/len(salary)\n",
        "print(avg_sa)\n",
        "print(type(avg_sa))"
      ],
      "metadata": {
        "colab": {
          "base_uri": "https://localhost:8080/"
        },
        "id": "_-AMNUqbO7eL",
        "outputId": "d15d1efe-bdd5-4db3-b13a-b219914ee7b7",
        "collapsed": true
      },
      "execution_count": null,
      "outputs": [
        {
          "output_type": "stream",
          "name": "stdout",
          "text": [
            "25000.0\n",
            "<class 'float'>\n"
          ]
        }
      ]
    },
    {
      "cell_type": "code",
      "source": [
        "skills = ['Python','sql','sql','R','Java','sql','Java']\n",
        "# find count of sql\n",
        "# count: Used to find how many times an element is repeated\n",
        "print(skills.count('sql'))"
      ],
      "metadata": {
        "colab": {
          "base_uri": "https://localhost:8080/"
        },
        "id": "EbjyC-gEP6rJ",
        "outputId": "96469e2f-261c-4d61-96bb-9e9e9f3141a1",
        "collapsed": true
      },
      "execution_count": null,
      "outputs": [
        {
          "output_type": "stream",
          "name": "stdout",
          "text": [
            "3\n"
          ]
        }
      ]
    },
    {
      "cell_type": "markdown",
      "source": [
        "# Properties of List\n",
        "* Lists are ordered : All list elements are arrange in proper way because of this nature indexing and slicing is possible.\n",
        "* Lists are Mutable : Lists elements are changeable(change , add,delete).\n",
        "* Lists allow duplicates : List can have repeatative values"
      ],
      "metadata": {
        "id": "Q-7_u4azRyLQ"
      }
    },
    {
      "cell_type": "code",
      "source": [
        "A =[100,100,100,200,300]\n",
        "print(A)"
      ],
      "metadata": {
        "colab": {
          "base_uri": "https://localhost:8080/"
        },
        "id": "H50jzZKNRC-8",
        "outputId": "d684e8aa-b69b-41c3-f423-4a154a0fb860",
        "collapsed": true
      },
      "execution_count": null,
      "outputs": [
        {
          "output_type": "stream",
          "name": "stdout",
          "text": [
            "[100, 100, 100, 200, 300]\n"
          ]
        }
      ]
    },
    {
      "cell_type": "markdown",
      "source": [
        "# Tuples\n",
        "Tuples are used to store multiple values of any data type"
      ],
      "metadata": {
        "id": "NJ-HpikBTiNm"
      }
    },
    {
      "cell_type": "markdown",
      "source": [
        "# Ways to create tuple\n",
        "Tuples are created using ( ) ."
      ],
      "metadata": {
        "id": "QQ1b8FcYUFPl"
      }
    },
    {
      "cell_type": "code",
      "source": [
        "# create a tuple to store values liek 10,20,30,40,50,10\n",
        "A = (10,20,30,40,50,10)\n",
        "print(A)\n",
        "print(type(A))\n",
        "# len\n",
        "print(len(A))\n",
        "# sum\n",
        "print(sum(A))\n",
        "# max\n",
        "print(max(A))\n",
        "#min\n",
        "print(min(A))\n",
        "# count of 10\n",
        "print(A.count(10))\n"
      ],
      "metadata": {
        "colab": {
          "base_uri": "https://localhost:8080/"
        },
        "id": "GNJe2InoTUiL",
        "outputId": "a8157ade-8098-4c4e-d5ff-7d7d45129247",
        "collapsed": true
      },
      "execution_count": null,
      "outputs": [
        {
          "output_type": "stream",
          "name": "stdout",
          "text": [
            "(10, 20, 30, 40, 50, 10)\n",
            "<class 'tuple'>\n",
            "6\n",
            "160\n",
            "50\n",
            "10\n",
            "2\n"
          ]
        }
      ]
    },
    {
      "cell_type": "code",
      "source": [
        "# create a tuple to store values like 100 , 3.5 , sql ,False , 5-3j\n",
        "B = (100,3.5,'sql',False ,5-3j)\n",
        "print(B)\n"
      ],
      "metadata": {
        "colab": {
          "base_uri": "https://localhost:8080/"
        },
        "id": "92jSN9TgUZaB",
        "outputId": "c7764cb7-a356-4612-b811-029fbd80be6f",
        "collapsed": true
      },
      "execution_count": null,
      "outputs": [
        {
          "output_type": "stream",
          "name": "stdout",
          "text": [
            "(100, 3.5, 'sql', False, (5-3j))\n"
          ]
        }
      ]
    },
    {
      "cell_type": "markdown",
      "source": [
        "# Properties of tuple\n",
        "* Tuple are ordered: Indexing and slicing is possible\n",
        "* Tuples are Immutable:We cannot change tuple elements.\n",
        "* Tuples allow duplicates"
      ],
      "metadata": {
        "id": "o11cuYTbV-es"
      }
    },
    {
      "cell_type": "markdown",
      "source": [
        "# Set\n",
        "Sets are used to store distinct values(unique values)."
      ],
      "metadata": {
        "id": "hkISlLyjG92C"
      }
    },
    {
      "cell_type": "markdown",
      "source": [
        "# how to create set?\n",
        "Sets are created using {}"
      ],
      "metadata": {
        "id": "7hoU2-ZgHQ20"
      }
    },
    {
      "cell_type": "code",
      "source": [
        "# create a set to store values 1,2,3,4,5\n",
        "A = {1,2,3,4,5,5}\n",
        "B = (1,2,3,4,5)\n",
        "C = [1,2,3,4,5]\n",
        "print(A)\n",
        "print(B)\n",
        "print(C)\n",
        "print(type(A))\n",
        "print(type(B))\n",
        "print(type(C))"
      ],
      "metadata": {
        "id": "gH6C-LDRVji8",
        "colab": {
          "base_uri": "https://localhost:8080/"
        },
        "outputId": "3533387b-95ef-4c78-8e3f-8e8f2a2b6ad8",
        "collapsed": true
      },
      "execution_count": null,
      "outputs": [
        {
          "output_type": "stream",
          "name": "stdout",
          "text": [
            "{1, 2, 3, 4, 5}\n",
            "(1, 2, 3, 4, 5)\n",
            "[1, 2, 3, 4, 5]\n",
            "<class 'set'>\n",
            "<class 'tuple'>\n",
            "<class 'list'>\n"
          ]
        }
      ]
    },
    {
      "cell_type": "markdown",
      "source": [
        "# Properties of set\n",
        "*  Unordered: set elements do not have fixed positions.(It takes random places)\n",
        "* Sets do not allow duplicates (no repeatative values)\n",
        "* Sets are Mutable(we can add element at random position , we can remove element from set).\n",
        "* Set elements are Immutable(Individual set element cannot be change)."
      ],
      "metadata": {
        "id": "-1L-fOoVIZz_"
      }
    },
    {
      "cell_type": "code",
      "source": [
        "colors={'blue','green','orange','white','blue'}\n",
        "print(colors)\n",
        "# colors.append('pink')\n",
        "# print(colors)"
      ],
      "metadata": {
        "colab": {
          "base_uri": "https://localhost:8080/"
        },
        "id": "eJXhtOu6IRtw",
        "outputId": "c21f93fa-0ae5-4d79-b27a-8c6cff1b3a5a",
        "collapsed": true
      },
      "execution_count": null,
      "outputs": [
        {
          "output_type": "stream",
          "name": "stdout",
          "text": [
            "{'green', 'blue', 'orange', 'white'}\n"
          ]
        }
      ]
    },
    {
      "cell_type": "code",
      "source": [
        "salary = {70000,20000,30000,30000,40000,40000}\n",
        "print(salary)\n",
        "print(type(salary))"
      ],
      "metadata": {
        "colab": {
          "base_uri": "https://localhost:8080/"
        },
        "id": "Mctc88K0IlN3",
        "outputId": "db8c3536-92c2-41ea-f071-73197c705f64",
        "collapsed": true
      },
      "execution_count": null,
      "outputs": [
        {
          "output_type": "stream",
          "name": "stdout",
          "text": [
            "{70000, 30000, 40000, 20000}\n",
            "<class 'set'>\n"
          ]
        }
      ]
    },
    {
      "cell_type": "markdown",
      "source": [
        "# dict\n",
        "IT stores information in the form of key:value pairs"
      ],
      "metadata": {
        "id": "pzNtIEd5LIip"
      }
    },
    {
      "cell_type": "code",
      "source": [
        "# create dict to store name , age , salary\n",
        "info = {'name':'Cass','age':30 ,'salary':30000}\n",
        "print(info)\n",
        "print(type(info))\n"
      ],
      "metadata": {
        "colab": {
          "base_uri": "https://localhost:8080/"
        },
        "id": "oZNJk4ofIrY1",
        "outputId": "766718d6-5c53-4bf7-8bd2-32a665494d03",
        "collapsed": true
      },
      "execution_count": null,
      "outputs": [
        {
          "output_type": "stream",
          "name": "stdout",
          "text": [
            "{'name': 'Cass', 'age': 30, 'salary': 30000}\n",
            "<class 'dict'>\n"
          ]
        }
      ]
    },
    {
      "cell_type": "code",
      "source": [
        "# create dict to store skills = python , 10=number , employee=True , False =0\n",
        "A = {'skills':'python' , 10:'number','employee':True , False:0}\n",
        "print(A)\n",
        "print(type(A))"
      ],
      "metadata": {
        "colab": {
          "base_uri": "https://localhost:8080/"
        },
        "id": "CMiG6kwhL9hT",
        "outputId": "df97b301-2c2e-4e7d-bc67-c395f20f3fe0",
        "collapsed": true
      },
      "execution_count": null,
      "outputs": [
        {
          "output_type": "stream",
          "name": "stdout",
          "text": [
            "{'skills': 'python', 10: 'number', 'employee': True, False: 0}\n",
            "<class 'dict'>\n"
          ]
        }
      ]
    },
    {
      "cell_type": "code",
      "source": [
        "# create dict to store values place=Mumbai , salary = 40000 , experienced=True , 100 = hundred\n",
        "place = \"location\"\n",
        "list = [1,2,3]\n",
        "tuple = (1,2,3)\n",
        "set = {1,2,3}\n",
        "dict = {'place':'Mumbai' , 'salary':40000 , 'experienced':True , 100:'hundred', 'Hamza':100}\n",
        "print(dict)\n",
        "print(type(dict))\n",
        "print(type(list))\n",
        "print(type(tuple))\n",
        "print(type(set))"
      ],
      "metadata": {
        "colab": {
          "base_uri": "https://localhost:8080/"
        },
        "id": "JN6T4iH5M8K_",
        "outputId": "da368e70-95fc-4d3d-e30e-04804c05664c",
        "collapsed": true
      },
      "execution_count": null,
      "outputs": [
        {
          "output_type": "stream",
          "name": "stdout",
          "text": [
            "{'place': 'Mumbai', 'salary': 40000, 'experienced': True, 100: 'hundred', 'Hamza': 100}\n",
            "<class 'dict'>\n",
            "<class 'list'>\n",
            "<class 'tuple'>\n",
            "<class 'set'>\n"
          ]
        }
      ]
    },
    {
      "cell_type": "code",
      "source": [
        "# name='Ridaa' , name=zara ,age = 20\n",
        "C ={'name':'zara','name':'Hamza','age':20,}\n",
        "print(C)"
      ],
      "metadata": {
        "colab": {
          "base_uri": "https://localhost:8080/"
        },
        "id": "IFSVGR7VOq8u",
        "outputId": "ca64f5d8-e505-4495-b36b-32ed516c6358",
        "collapsed": true
      },
      "execution_count": null,
      "outputs": [
        {
          "output_type": "stream",
          "name": "stdout",
          "text": [
            "{'name': 'Hamza', 'age': 20}\n"
          ]
        }
      ]
    },
    {
      "cell_type": "markdown",
      "source": [
        "# Properties of dict.\n",
        "* dict are ordered\n",
        "* dicts are Mutable(changing is possible)\n",
        "* Allows repeatative values but not keys.\n",
        "* Keys are not changeable but values can be changed"
      ],
      "metadata": {
        "id": "NEjeglsPPcKC"
      }
    },
    {
      "cell_type": "code",
      "source": [
        "A = {'id':1, 'name':{'Abhishek','Tab'},'marks':[10,20,30]}\n",
        "print(A)\n",
        "print(len(A))"
      ],
      "metadata": {
        "colab": {
          "base_uri": "https://localhost:8080/"
        },
        "id": "w6NqEwuKvPZ6",
        "outputId": "ce5ca00e-39f4-43dc-8141-a9cd9eb422a9"
      },
      "execution_count": null,
      "outputs": [
        {
          "output_type": "stream",
          "name": "stdout",
          "text": [
            "{'id': 1, 'name': {'Tab', 'Abhishek'}, 'marks': [10, 20, 30]}\n",
            "3\n"
          ]
        }
      ]
    },
    {
      "cell_type": "code",
      "source": [
        "A={'name':'Abhishek','mentor':'manar' , 'name':'angel'}\n",
        "print(A)"
      ],
      "metadata": {
        "colab": {
          "base_uri": "https://localhost:8080/"
        },
        "id": "QNLxw6RKPC4H",
        "outputId": "a9544c8f-f619-4f4a-fd69-4a57458d56fb",
        "collapsed": true
      },
      "execution_count": null,
      "outputs": [
        {
          "output_type": "stream",
          "name": "stdout",
          "text": [
            "{'name': 'angel', 'mentor': 'manar'}\n"
          ]
        }
      ]
    },
    {
      "cell_type": "code",
      "source": [
        "''' Differences\n",
        "   List          | Tuple                | set           |dict\n",
        "ordered          | ordered              | Unordered     |ordered\n",
        "Mutable          | Immutable            | Mutable       | Mutable\n",
        "Allow duplicates | Allows duplicates    | No duplicates | No duplicate keys\n",
        " '''"
      ],
      "metadata": {
        "id": "0vlRG7XjQBJe"
      },
      "execution_count": null,
      "outputs": []
    }
  ]
}